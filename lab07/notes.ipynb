{
 "cells": [
  {
   "cell_type": "code",
   "execution_count": 347,
   "metadata": {
    "collapsed": true
   },
   "outputs": [],
   "source": [
    "class Link:\n",
    "    \"\"\"A linked list.\n",
    "\n",
    "    >>> s = Link(1)\n",
    "    >>> s.first\n",
    "    1\n",
    "    >>> s.rest is Link.empty\n",
    "    True\n",
    "    >>> s = Link(2, Link(3, Link(4)))\n",
    "    >>> s.second\n",
    "    3\n",
    "    >>> s.first = 5\n",
    "    >>> s.second = 6\n",
    "    >>> s.rest.rest = Link.empty\n",
    "    >>> s                                    # Displays the contents of repr(s)\n",
    "    Link(5, Link(6))\n",
    "    >>> s.rest = Link(7, Link(Link(8, Link(9))))\n",
    "    >>> s\n",
    "    Link(5, Link(7, Link(Link(8, Link(9)))))\n",
    "    >>> print(s)                             # Prints str(s)\n",
    "    <5 7 <8 9>>\n",
    "    \"\"\"\n",
    "    empty=()\n",
    "    \n",
    "    def __init__(self,first,rest=empty):\n",
    "        assert rest is Link.empty or isinstance(rest, Link)\n",
    "        self.first = first\n",
    "        self.rest = rest\n",
    "        \n",
    "    @property   #将method变成attribute\n",
    "    def second(self):\n",
    "        return self.rest.first\n",
    "    \n",
    "    @second.setter  #可以对之前的property进行assignment\n",
    "    def second(self,value):\n",
    "        self.rest.first = value\n",
    "        \n",
    "    #其实相当于给 repr 这个内置函数加了Link这个类，所以如果传入的参数是Link类的话（self.rest）会递归这个函数，\n",
    "    #如果是其他的话（self.first）就按照python里面的定义\n",
    "    def __repr__(self):\n",
    "        if self.rest is Link.empty:\n",
    "            rest_repr = ''\n",
    "        else:\n",
    "            rest_repr = ',' + repr(self.rest)\n",
    "        return 'Link(' + repr(self.first) + rest_repr + ')'  \n",
    "    \n",
    "    def __str__(self):\n",
    "        string = '<'\n",
    "        while self.rest is not Link.empty:\n",
    "            string+=str(self.first)+' '\n",
    "            self = self.rest\n",
    "        return string + str(self.first) + '>'"
   ]
  },
  {
   "cell_type": "code",
   "execution_count": 348,
   "metadata": {
    "collapsed": true
   },
   "outputs": [],
   "source": [
    "class Tree:\n",
    "    \n",
    "    def __init__(self,label,branches=[]):\n",
    "        for b in branches:\n",
    "            assert isinstance(b,Tree)\n",
    "        self.label = label\n",
    "        self.branches = list(branches)\n",
    "    \n",
    "    def __repr__(self):\n",
    "        if self.branches:\n",
    "            branches_repr =', ' + repr(self.branches)\n",
    "        else:\n",
    "            branches_repr=''\n",
    "        return 'Tree({0}{1})'.format(self.label,branches_repr)\n",
    "    \n",
    "    def is_leaf(self):\n",
    "        return not self.branches\n",
    "    \n",
    "    def __eq__(self,other):\n",
    "        return type(other) is type(self) and self.label == other.label \\\n",
    "                and self.branches == other.branches\n",
    "    \n",
    "    def __str__(self):\n",
    "        def print_tree(t, indent=0):\n",
    "            tree_str = '  ' * indent + str(t.label) + \"\\n\"\n",
    "            for b in t.branches:\n",
    "                tree_str += print_tree(b, indent + 1)\n",
    "            return tree_str\n",
    "        return print_tree(self).rstrip()   \n",
    "    \n",
    "    def copy_tree(self):\n",
    "        return Tree(self.label,[b.copy_tree() for b in self.branches])"
   ]
  },
  {
   "cell_type": "code",
   "execution_count": 129,
   "metadata": {
    "collapsed": true
   },
   "outputs": [],
   "source": [
    "t = Tree(1,[Tree(2,[Tree(3),Tree(4)])])"
   ]
  },
  {
   "cell_type": "code",
   "execution_count": 130,
   "metadata": {},
   "outputs": [
    {
     "data": {
      "text/plain": [
       "Tree(1, [Tree(2, [Tree(3), Tree(4)])])"
      ]
     },
     "execution_count": 130,
     "metadata": {},
     "output_type": "execute_result"
    }
   ],
   "source": [
    "t"
   ]
  },
  {
   "cell_type": "code",
   "execution_count": 131,
   "metadata": {},
   "outputs": [
    {
     "name": "stdout",
     "output_type": "stream",
     "text": [
      "1\n",
      "  2\n",
      "    3\n",
      "    4\n"
     ]
    }
   ],
   "source": [
    "print(str(t))"
   ]
  },
  {
   "cell_type": "code",
   "execution_count": 132,
   "metadata": {},
   "outputs": [
    {
     "data": {
      "text/plain": [
       "Tree(1, [Tree(2, [Tree(3), Tree(4)])])"
      ]
     },
     "execution_count": 132,
     "metadata": {},
     "output_type": "execute_result"
    }
   ],
   "source": [
    "t"
   ]
  },
  {
   "cell_type": "code",
   "execution_count": 133,
   "metadata": {
    "collapsed": true
   },
   "outputs": [],
   "source": [
    "copy_t = t.copy_tree()"
   ]
  },
  {
   "cell_type": "code",
   "execution_count": 134,
   "metadata": {},
   "outputs": [
    {
     "data": {
      "text/plain": [
       "Tree(1, [Tree(2, [Tree(3), Tree(4)])])"
      ]
     },
     "execution_count": 134,
     "metadata": {},
     "output_type": "execute_result"
    }
   ],
   "source": [
    "copy_t"
   ]
  },
  {
   "cell_type": "code",
   "execution_count": 141,
   "metadata": {
    "collapsed": true
   },
   "outputs": [],
   "source": [
    "def link_to_list(link):\n",
    "    \"\"\"Takes a linked list and returns a Python list with the same elements.\n",
    "\n",
    "    >>> link = Link(1, Link(2, Link(3, Link(4))))\n",
    "    >>> link_to_list(link)\n",
    "    [1, 2, 3, 4]\n",
    "    >>> link_to_list(Link.empty)\n",
    "    []\n",
    "    \"\"\"\n",
    "    l=[]\n",
    "    if link.rest:\n",
    "        lk=link\n",
    "        while lk.rest is not link.empty:\n",
    "            l.append(lk.first)\n",
    "            lk=lk.rest\n",
    "        l.append(lk.first)\n",
    "    return l"
   ]
  },
  {
   "cell_type": "code",
   "execution_count": 142,
   "metadata": {},
   "outputs": [
    {
     "data": {
      "text/plain": [
       "[1, 2, 3, 4]"
      ]
     },
     "execution_count": 142,
     "metadata": {},
     "output_type": "execute_result"
    }
   ],
   "source": [
    "link = Link(1, Link(2, Link(3, Link(4))))\n",
    "link_to_list(link)"
   ]
  },
  {
   "cell_type": "code",
   "execution_count": 147,
   "metadata": {},
   "outputs": [
    {
     "data": {
      "text/plain": [
       "Link([])"
      ]
     },
     "execution_count": 147,
     "metadata": {},
     "output_type": "execute_result"
    }
   ],
   "source": [
    "Link([])"
   ]
  },
  {
   "cell_type": "code",
   "execution_count": 148,
   "metadata": {
    "collapsed": true
   },
   "outputs": [],
   "source": [
    "def store_digits(n):\n",
    "    \"\"\"Stores the digits of a positive number n in a linked list.\n",
    "\n",
    "    >>> s = store_digits(1)\n",
    "    >>> s\n",
    "    Link(1)\n",
    "    >>> store_digits(2345)\n",
    "    Link(2, Link(3, Link(4, Link(5))))\n",
    "    >>> store_digits(876)\n",
    "    Link(8, Link(7, Link(6)))\n",
    "    \"\"\"\n",
    "    if n<10:\n",
    "        return Link(n)\n",
    "    else:\n",
    "        return Link(n%10,store_digits(n//10))"
   ]
  },
  {
   "cell_type": "code",
   "execution_count": 149,
   "metadata": {},
   "outputs": [
    {
     "data": {
      "text/plain": [
       "Link(5,Link(4,Link(3,Link(2))))"
      ]
     },
     "execution_count": 149,
     "metadata": {},
     "output_type": "execute_result"
    }
   ],
   "source": [
    "store_digits(2345)"
   ]
  },
  {
   "cell_type": "code",
   "execution_count": 185,
   "metadata": {
    "collapsed": true
   },
   "outputs": [],
   "source": [
    "n=23456\n",
    "s=[]\n",
    "while n>0:\n",
    "    s.append(n%10)\n",
    "    n=n//10\n",
    "s=s[::-1]\n",
    "\n",
    "def digit(s):\n",
    "    if len(s)==1:\n",
    "        return Link(s[0])\n",
    "    else:\n",
    "        return Link(s[0],digit(s[1:]))"
   ]
  },
  {
   "cell_type": "code",
   "execution_count": 187,
   "metadata": {
    "collapsed": true
   },
   "outputs": [],
   "source": [
    "def store_digits(n):\n",
    "    \"\"\"Stores the digits of a positive number n in a linked list.\n",
    "\n",
    "    >>> s = store_digits(1)\n",
    "    >>> s\n",
    "    Link(1)\n",
    "    >>> store_digits(2345)\n",
    "    Link(2, Link(3, Link(4, Link(5))))\n",
    "    >>> store_digits(876)\n",
    "    Link(8, Link(7, Link(6)))\n",
    "    \"\"\"\n",
    "    result = Link.empty\n",
    "    while n > 0:\n",
    "        result = Link(n % 10, result)\n",
    "        n //= 10\n",
    "    return result"
   ]
  },
  {
   "cell_type": "code",
   "execution_count": 188,
   "metadata": {},
   "outputs": [
    {
     "data": {
      "text/plain": [
       "Link(1,Link(2,Link(3,Link(4,Link(5)))))"
      ]
     },
     "execution_count": 188,
     "metadata": {},
     "output_type": "execute_result"
    }
   ],
   "source": [
    "store_digits(12345)"
   ]
  },
  {
   "cell_type": "code",
   "execution_count": 195,
   "metadata": {
    "collapsed": true
   },
   "outputs": [],
   "source": [
    "def cumulative_sum(t):\n",
    "    \"\"\"Mutates t where each node's root becomes the sum of all entries in the\n",
    "    corresponding subtree rooted at t.\n",
    "\n",
    "    >>> t = Tree(1, [Tree(3, [Tree(5)]), Tree(7)])\n",
    "    >>> cumulative_sum(t)\n",
    "    >>> t\n",
    "    Tree(16, [Tree(8, [Tree(5)]), Tree(7)])\n",
    "    \"\"\"\n",
    "    if t.is_leaf():\n",
    "        result = t\n",
    "    else:\n",
    "        t.branches = [cumulative_sum(b) for b in t.branches]\n",
    "        t.label = t.label + sum([b.label for b in t.branches])\n",
    "        return t"
   ]
  },
  {
   "cell_type": "code",
   "execution_count": 196,
   "metadata": {},
   "outputs": [
    {
     "data": {
      "text/plain": [
       "Tree(16, [Tree(8, [Tree(5)]), Tree(7)])"
      ]
     },
     "execution_count": 196,
     "metadata": {},
     "output_type": "execute_result"
    }
   ],
   "source": [
    "t = Tree(1, [Tree(3, [Tree(5)]), Tree(7)])\n",
    "cumulative_sum(t)"
   ]
  },
  {
   "cell_type": "code",
   "execution_count": 327,
   "metadata": {
    "collapsed": true
   },
   "outputs": [],
   "source": [
    "def remove_all(link , value):\n",
    "    \"\"\"Remove all the nodes containing value. Assume there exists some\n",
    "    nodes to be removed and the first element is never removed.\n",
    "\n",
    "    >>> l1 = Link(0, Link(2, Link(2, Link(3, Link(1, Link(2, Link(3)))))))\n",
    "    >>> print(l1)\n",
    "    <0 2 2 3 1 2 3>\n",
    "    >>> remove_all(l1, 2)\n",
    "    >>> print(l1)\n",
    "    <0 3 1 3>\n",
    "    >>> remove_all(l1, 3)\n",
    "    >>> print(l1)\n",
    "    <0 1>\n",
    "    \"\"\"\n",
    "    if link.rest is not Link.empty:\n",
    "        while link.second == value:\n",
    "            link.rest = link.rest.rest\n",
    "            if link.rest is Link.empty:\n",
    "                break\n",
    "        if link.rest is not Link.empty:\n",
    "            remove_all(link.rest,value)"
   ]
  },
  {
   "cell_type": "code",
   "execution_count": 334,
   "metadata": {},
   "outputs": [
    {
     "name": "stdout",
     "output_type": "stream",
     "text": [
      "<0 2 2 3 1 2 3>\n"
     ]
    }
   ],
   "source": [
    "l1 = Link(0, Link(2, Link(2, Link(3, Link(1, Link(2, Link(3)))))))\n",
    "print(l1)"
   ]
  },
  {
   "cell_type": "code",
   "execution_count": 335,
   "metadata": {
    "collapsed": true
   },
   "outputs": [],
   "source": [
    "remove_all(l1,2)"
   ]
  },
  {
   "cell_type": "code",
   "execution_count": 336,
   "metadata": {},
   "outputs": [
    {
     "name": "stdout",
     "output_type": "stream",
     "text": [
      "<0 3 1 3>\n"
     ]
    }
   ],
   "source": [
    "print(l1)"
   ]
  },
  {
   "cell_type": "code",
   "execution_count": 337,
   "metadata": {
    "collapsed": true
   },
   "outputs": [],
   "source": [
    "remove_all(l1, 3)"
   ]
  },
  {
   "cell_type": "code",
   "execution_count": 338,
   "metadata": {},
   "outputs": [
    {
     "name": "stdout",
     "output_type": "stream",
     "text": [
      "<0 1>\n"
     ]
    }
   ],
   "source": [
    "print(l1)"
   ]
  },
  {
   "cell_type": "code",
   "execution_count": 267,
   "metadata": {},
   "outputs": [
    {
     "data": {
      "text/plain": [
       "Link(3,Link(1,Link(3)))"
      ]
     },
     "execution_count": 267,
     "metadata": {},
     "output_type": "execute_result"
    }
   ],
   "source": [
    "l1.rest"
   ]
  },
  {
   "cell_type": "code",
   "execution_count": 234,
   "metadata": {},
   "outputs": [
    {
     "data": {
      "text/plain": [
       "Link(2,Link(3,Link(1,Link(2,Link(3)))))"
      ]
     },
     "execution_count": 234,
     "metadata": {},
     "output_type": "execute_result"
    }
   ],
   "source": [
    "l1.rest.rest"
   ]
  },
  {
   "cell_type": "code",
   "execution_count": 235,
   "metadata": {
    "collapsed": true
   },
   "outputs": [],
   "source": [
    "l1.rest = l1.rest.rest"
   ]
  },
  {
   "cell_type": "code",
   "execution_count": 339,
   "metadata": {
    "collapsed": true
   },
   "outputs": [],
   "source": [
    "link1 = Link(3, Link(Link(4), Link(5, Link(6))))"
   ]
  },
  {
   "cell_type": "code",
   "execution_count": 341,
   "metadata": {},
   "outputs": [
    {
     "name": "stdout",
     "output_type": "stream",
     "text": [
      "<3 <4> 5 6>\n"
     ]
    }
   ],
   "source": [
    "print(link1)"
   ]
  },
  {
   "cell_type": "code",
   "execution_count": 343,
   "metadata": {
    "collapsed": true
   },
   "outputs": [],
   "source": [
    "def deep_map_mut(fn, link):\n",
    "    \"\"\"Mutates a deep link by replacing each item found with the\n",
    "    result of calling fn on the item.  Does NOT create new Links (so\n",
    "    no use of Link's constructor)\n",
    "\n",
    "    Does not return the modified Link object.\n",
    "\n",
    "    >>> link1 = Link(3, Link(Link(4), Link(5, Link(6))))\n",
    "    >>> deep_map_mut(lambda x: x * x, link1)\n",
    "    >>> print(link1)\n",
    "    <9 <16> 25 36>\n",
    "    \"\"\"\n",
    "    while link is not Link.empty:\n",
    "        if isinstance(link.first,Link):\n",
    "            deep_map_mut(fn,link.first)\n",
    "        else:\n",
    "            link.first = fn(link.first)\n",
    "        link = link.rest"
   ]
  },
  {
   "cell_type": "code",
   "execution_count": 344,
   "metadata": {},
   "outputs": [
    {
     "name": "stdout",
     "output_type": "stream",
     "text": [
      "<9 <16> 25 36>\n"
     ]
    }
   ],
   "source": [
    "link1 = Link(3, Link(Link(4), Link(5, Link(6))))\n",
    "deep_map_mut(lambda x: x * x, link1)\n",
    "print(link1)"
   ]
  },
  {
   "cell_type": "code",
   "execution_count": 370,
   "metadata": {
    "collapsed": true
   },
   "outputs": [],
   "source": [
    "def reverse_other(t):\n",
    "    \"\"\"Mutates the tree such that nodes on every other (even_indexed) level\n",
    "    have the labels of their branches all reversed.\n",
    "\n",
    "    >>> t = Tree(1, [Tree(2), Tree(3), Tree(4)])\n",
    "    >>> reverse_other(t)\n",
    "    >>> t\n",
    "    Tree(1, [Tree(4), Tree(3), Tree(2)])\n",
    "    >>> t = Tree(1, [Tree(2, [Tree(3, [Tree(4), Tree(5)]), Tree(6, [Tree(7)])]), Tree(8)])\n",
    "    >>> reverse_other(t)\n",
    "    >>> t\n",
    "    Tree(1, [Tree(8, [Tree(3, [Tree(5), Tree(4)]), Tree(6, [Tree(7)])]), Tree(2)])\n",
    "    \"\"\"\n",
    "    bran = [b.label for b in t.branches][::-1]\n",
    "    for i,b in enumerate(t.branches):\n",
    "        b.label = bran[i]\n",
    "        if not b.is_leaf():\n",
    "            for br in b.branches:\n",
    "                reverse_other(br)"
   ]
  },
  {
   "cell_type": "code",
   "execution_count": 377,
   "metadata": {},
   "outputs": [
    {
     "name": "stdout",
     "output_type": "stream",
     "text": [
      "1\n",
      "  2\n",
      "    3\n",
      "      4\n",
      "      5\n",
      "    6\n",
      "      7\n",
      "  8\n"
     ]
    }
   ],
   "source": [
    "t = Tree(1, [Tree(2, [Tree(3, [Tree(4), Tree(5)]), Tree(6, [Tree(7)])]), Tree(8)])\n",
    "print(t)"
   ]
  },
  {
   "cell_type": "code",
   "execution_count": 378,
   "metadata": {},
   "outputs": [
    {
     "name": "stdout",
     "output_type": "stream",
     "text": [
      "1\n",
      "  8\n",
      "    3\n",
      "      5\n",
      "      4\n",
      "    6\n",
      "      7\n",
      "  2\n"
     ]
    }
   ],
   "source": [
    "reverse_other(t)\n",
    "print(t)"
   ]
  },
  {
   "cell_type": "code",
   "execution_count": 376,
   "metadata": {},
   "outputs": [
    {
     "name": "stdout",
     "output_type": "stream",
     "text": [
      "1\n",
      "  4\n",
      "  3\n",
      "  2\n",
      "    5\n"
     ]
    }
   ],
   "source": [
    "t = Tree(1, [Tree(2), Tree(3), Tree(4,[Tree(5)])])\n",
    "reverse_other(t)\n",
    "print(t)"
   ]
  },
  {
   "cell_type": "code",
   "execution_count": 384,
   "metadata": {
    "collapsed": true
   },
   "outputs": [],
   "source": [
    "class Bird:\n",
    "    \n",
    "    def __init__(self):\n",
    "        self.can = True\n",
    "    \n",
    "    def fly(self):\n",
    "        if self.can:\n",
    "            print(\"can fly\")\n",
    "        else:\n",
    "            print(\"can't fly\")"
   ]
  },
  {
   "cell_type": "code",
   "execution_count": 385,
   "metadata": {
    "collapsed": true
   },
   "outputs": [],
   "source": [
    "class Penguin(Bird):\n",
    "    can = False"
   ]
  },
  {
   "cell_type": "code",
   "execution_count": 386,
   "metadata": {
    "collapsed": true
   },
   "outputs": [],
   "source": [
    "A = Penguin()"
   ]
  },
  {
   "cell_type": "code",
   "execution_count": 387,
   "metadata": {},
   "outputs": [
    {
     "data": {
      "text/plain": [
       "True"
      ]
     },
     "execution_count": 387,
     "metadata": {},
     "output_type": "execute_result"
    }
   ],
   "source": [
    "A.can"
   ]
  },
  {
   "cell_type": "code",
   "execution_count": 388,
   "metadata": {},
   "outputs": [
    {
     "name": "stdout",
     "output_type": "stream",
     "text": [
      "can fly\n"
     ]
    }
   ],
   "source": [
    "A.fly()"
   ]
  },
  {
   "cell_type": "code",
   "execution_count": null,
   "metadata": {
    "collapsed": true
   },
   "outputs": [],
   "source": []
  }
 ],
 "metadata": {
  "kernelspec": {
   "display_name": "Python 3",
   "language": "python",
   "name": "python3"
  },
  "language_info": {
   "codemirror_mode": {
    "name": "ipython",
    "version": 3
   },
   "file_extension": ".py",
   "mimetype": "text/x-python",
   "name": "python",
   "nbconvert_exporter": "python",
   "pygments_lexer": "ipython3",
   "version": "3.6.1"
  }
 },
 "nbformat": 4,
 "nbformat_minor": 2
}
