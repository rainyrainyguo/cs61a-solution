{
 "cells": [
  {
   "cell_type": "markdown",
   "metadata": {},
   "source": [
    "## HW04 Q4 Ping pong\n",
    "\n",
    "The ping-pong sequence counts up starting from 1 and is always either counting up or counting down. At element $k$, the direction switches if $k$ is a multiple of 7 or contains the digit 7. The first 30 elements of the ping-pong sequence are listed below, with direction swaps marked using brackets at the 7th, 14th, 17th, 21st, 27th, and 28th elements:\n",
    "\n",
    "> _1 2 3 4 5 6 [7] 6 5 4 3 2 1 [0] 1 2 [3] 2 1 0 [-1] 0 1 2 3 4 [5] [4] 5 6_\n",
    "\n",
    "Implement a function pingpong that returns the nth element of the ping-pong sequence. Do not use any assignment statements; however, you may use def statements.\n",
    "\n",
    "> _Hint: If you're stuck, try implementing pingpong first using assignment and a while statement. Any name that changes value will become an argument to a function in the recursive definition._"
   ]
  },
  {
   "cell_type": "code",
   "execution_count": 1,
   "metadata": {
    "collapsed": true
   },
   "outputs": [],
   "source": [
    "def has_seven(k):\n",
    "    \"\"\"Returns True if at least one of the digits of k is a 7, False otherwise.\n",
    "\n",
    "    >>> has_seven(3)\n",
    "    False\n",
    "    >>> has_seven(7)\n",
    "    True\n",
    "    >>> has_seven(2734)\n",
    "    True\n",
    "    >>> has_seven(2634)\n",
    "    False\n",
    "    >>> has_seven(734)\n",
    "    True\n",
    "    >>> has_seven(7777)\n",
    "    True\n",
    "    \"\"\"\n",
    "    if k % 10 == 7:\n",
    "        return True\n",
    "    elif k < 10:\n",
    "        return False\n",
    "    else:\n",
    "        return has_seven(k // 10)"
   ]
  },
  {
   "cell_type": "markdown",
   "metadata": {},
   "source": [
    "### solution 1\n",
    "思路： 直接输入n的情况时base case, 考虑从1输入一直recursive到n. 每一次走的step由上一步的step和下一步的i决定"
   ]
  },
  {
   "cell_type": "code",
   "execution_count": 5,
   "metadata": {
    "collapsed": true
   },
   "outputs": [],
   "source": [
    "def pingpong(n):\n",
    "    \"\"\"Return the nth element of the ping-pong sequence.\n",
    "\n",
    "    >>> pingpong(7)\n",
    "    7\n",
    "    >>> pingpong(8)\n",
    "    6\n",
    "    >>> pingpong(15)\n",
    "    1\n",
    "    >>> pingpong(21)\n",
    "    -1\n",
    "    >>> pingpong(22)\n",
    "    0\n",
    "    >>> pingpong(30)\n",
    "    6\n",
    "    >>> pingpong(68)\n",
    "    2\n",
    "    >>> pingpong(69)\n",
    "    1\n",
    "    >>> pingpong(70)\n",
    "    0\n",
    "    >>> pingpong(71)\n",
    "    1\n",
    "    >>> pingpong(72)\n",
    "    0\n",
    "    >>> pingpong(100)\n",
    "    2\n",
    "    >>> from construct_check import check\n",
    "    >>> check(HW_SOURCE_FILE, 'pingpong', ['Assign', 'AugAssign'])\n",
    "    True\n",
    "    \"\"\"\n",
    "    def pingpong_next(x, i, step):\n",
    "        if i == n:\n",
    "            return x\n",
    "        return pingpong_next(x + step, i + 1, next_dir(step, i+1))\n",
    "\n",
    "    def next_dir(step, i):\n",
    "        if i % 7 == 0 or has_seven(i):\n",
    "            return -step\n",
    "        return step\n",
    "\n",
    "    return pingpong_next(1, 1, 1)"
   ]
  },
  {
   "cell_type": "markdown",
   "metadata": {},
   "source": [
    "### solution 2\n",
    "思路：第n步的位置 = 第(n-1)步的位置 + 从(n-1)到n的跨度"
   ]
  },
  {
   "cell_type": "code",
   "execution_count": 7,
   "metadata": {
    "collapsed": true
   },
   "outputs": [],
   "source": [
    "def pingpong(n):\n",
    "    if n<=7:\n",
    "        return n\n",
    "    return step(n-1)+pingpong(n-1)\n",
    "\n",
    "def step(n):\n",
    "    if n<7:\n",
    "        return 1\n",
    "    else:\n",
    "        if n%7==0 or has_seven(n):\n",
    "            return -step(n-1)\n",
    "        return step(n-1)"
   ]
  },
  {
   "cell_type": "markdown",
   "metadata": {},
   "source": [
    "---"
   ]
  },
  {
   "cell_type": "code",
   "execution_count": 148,
   "metadata": {
    "collapsed": true
   },
   "outputs": [],
   "source": [
    "def create_row(size):\n",
    "    \"\"\"Returns a single, empty row with the given size. Each empty spot is\n",
    "    represented by the string '-'.\n",
    "\n",
    "    >>> create_row(5)\n",
    "    ['-', '-', '-', '-', '-']\n",
    "    \"\"\"\n",
    "    return ['-' for _ in range(size)]\n",
    "\n",
    "\n",
    "def create_board(rows, columns):\n",
    "    \"\"\"Returns a board with the given dimensions.\n",
    "\n",
    "    >>> create_board(3, 5)\n",
    "    [['-', '-', '-', '-', '-'], ['-', '-', '-', '-', '-'], ['-', '-', '-', '-', '-']]\n",
    "    \"\"\"\n",
    "    return [create_row(columns) for _ in range(rows)]\n",
    "\n",
    "\n",
    "def replace_elem(lst, index, elem):\n",
    "    \"\"\"Create and return a new list whose elements are the same as those in\n",
    "    LST except at index INDEX, which should contain element ELEM instead.\n",
    "\n",
    "    >>> old = [1, 2, 3, 4, 5, 6, 7]\n",
    "    >>> new = replace_elem(old, 2, 8)\n",
    "    >>> new\n",
    "    [1, 2, 8, 4, 5, 6, 7]\n",
    "    >>> new is old   # check that replace_elem outputs a new list\n",
    "    False\n",
    "    \"\"\"\n",
    "    assert index >= 0 and index < len(lst), 'Index is out of bounds'\n",
    "    new=[i for i in lst]\n",
    "    new[index]=elem\n",
    "    return new\n",
    "\n",
    "\n",
    "def get_piece(board, row, column):\n",
    "    \"\"\"Returns the piece at location (row, column) in the board.\n",
    "\n",
    "    >>> rows, columns = 2, 2\n",
    "    >>> board = create_board(rows, columns)\n",
    "    >>> board = put_piece(board, rows, 0, 'X')[1] # Puts piece \"X\" in column 0 of board and updates board\n",
    "    >>> board = put_piece(board, rows, 0, 'O')[1] # Puts piece \"O\" in column 0 of board and updates board\n",
    "    >>> get_piece(board, 1, 0)\n",
    "    'X'\n",
    "    >>> get_piece(board, 1, 1)\n",
    "    '-'\n",
    "    \"\"\"\n",
    "    return board[row][column]\n",
    "\n",
    "\n",
    "def put_piece(board, max_rows, column, player):\n",
    "    \"\"\"Puts PLAYER's piece in the bottommost empty spot in the given column of\n",
    "    the board. Returns a tuple of two elements:\n",
    "\n",
    "        1. The index of the row the piece ends up in, or -1 if the column\n",
    "           is full.\n",
    "        2. The new board\n",
    "\n",
    "    >>> rows, columns = 2, 2\n",
    "    >>> board = create_board(rows, columns)\n",
    "    >>> row, new_board = put_piece(board, rows, 0, 'X')\n",
    "    >>> row\n",
    "    1\n",
    "    >>> row, new_board = put_piece(new_board, rows, 0, 'O')\n",
    "    >>> row\n",
    "    0\n",
    "    >>> row, new_board = put_piece(new_board, rows, 0, 'X')\n",
    "    >>> row\n",
    "    -1\n",
    "    \"\"\"\n",
    "    if board[0][column]!='-':\n",
    "        return -1,board\n",
    "    else:\n",
    "        for i in range(max_rows):\n",
    "            if board[i][column]!='-':\n",
    "                i=i-1\n",
    "                board[i]=replace_elem(board[i], column, player)\n",
    "                return i,board\n",
    "            elif i==max_rows-1:\n",
    "                board[i]=replace_elem(board[i], column, player)\n",
    "                return i,board \n",
    "            \n",
    "def print_board(board, max_rows, max_cols):\n",
    "    \"\"\"Prints the board. Row 0 is at the top, and column 0 at the far left.\n",
    "\n",
    "    >>> rows, columns = 2, 2\n",
    "    >>> board = create_board(rows, columns)\n",
    "    >>> print_board(board, rows, columns)\n",
    "    - -\n",
    "    - -\n",
    "    >>> new_board = make_move(board, rows, columns, 0, 'X')[1]\n",
    "    >>> print_board(new_board, rows, columns)\n",
    "    - -\n",
    "    X -\n",
    "    \"\"\"\n",
    "    for i in range(max_cols):\n",
    "        new=''\n",
    "        for j in board[i]:\n",
    "            new=new+' '+j\n",
    "        print(new.strip())"
   ]
  },
  {
   "cell_type": "code",
   "execution_count": 149,
   "metadata": {
    "collapsed": true
   },
   "outputs": [],
   "source": [
    "rows, columns = 2, 2\n",
    "board = create_board(rows, columns)"
   ]
  },
  {
   "cell_type": "code",
   "execution_count": 150,
   "metadata": {},
   "outputs": [
    {
     "data": {
      "text/plain": [
       "[['-', '-'], ['-', '-']]"
      ]
     },
     "execution_count": 150,
     "metadata": {},
     "output_type": "execute_result"
    }
   ],
   "source": [
    "board"
   ]
  },
  {
   "cell_type": "code",
   "execution_count": 151,
   "metadata": {},
   "outputs": [],
   "source": [
    "board = put_piece(board, rows, 0, 'X')[1]"
   ]
  },
  {
   "cell_type": "code",
   "execution_count": 152,
   "metadata": {},
   "outputs": [
    {
     "data": {
      "text/plain": [
       "[['-', '-'], ['X', '-']]"
      ]
     },
     "execution_count": 152,
     "metadata": {},
     "output_type": "execute_result"
    }
   ],
   "source": [
    "board"
   ]
  },
  {
   "cell_type": "code",
   "execution_count": 153,
   "metadata": {},
   "outputs": [
    {
     "name": "stdout",
     "output_type": "stream",
     "text": [
      "- -\n",
      "X -\n"
     ]
    }
   ],
   "source": [
    "print_board(board,rows,columns)"
   ]
  },
  {
   "cell_type": "code",
   "execution_count": 159,
   "metadata": {
    "collapsed": true
   },
   "outputs": [],
   "source": [
    "def f(line,max_cols,num_connect,player):\n",
    "        for i in range(max_cols-num_connect+1):\n",
    "            j=0\n",
    "            while line[i+j]==player:\n",
    "                j=j+1\n",
    "            if j==num_connect:\n",
    "                return True\n",
    "        return False"
   ]
  },
  {
   "cell_type": "code",
   "execution_count": 160,
   "metadata": {},
   "outputs": [
    {
     "data": {
      "text/plain": [
       "False"
      ]
     },
     "execution_count": 160,
     "metadata": {},
     "output_type": "execute_result"
    }
   ],
   "source": [
    "f([1,1,2,1,3,1,1],6,3,1)"
   ]
  },
  {
   "cell_type": "code",
   "execution_count": null,
   "metadata": {
    "collapsed": true
   },
   "outputs": [],
   "source": []
  }
 ],
 "metadata": {
  "kernelspec": {
   "display_name": "Python 3",
   "language": "python",
   "name": "python3"
  },
  "language_info": {
   "codemirror_mode": {
    "name": "ipython",
    "version": 3
   },
   "file_extension": ".py",
   "mimetype": "text/x-python",
   "name": "python",
   "nbconvert_exporter": "python",
   "pygments_lexer": "ipython3",
   "version": "3.6.1"
  }
 },
 "nbformat": 4,
 "nbformat_minor": 2
}
