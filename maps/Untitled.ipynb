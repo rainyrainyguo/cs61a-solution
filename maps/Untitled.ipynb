{
 "cells": [
  {
   "cell_type": "code",
   "execution_count": 32,
   "metadata": {
    "collapsed": true
   },
   "outputs": [],
   "source": [
    "\"\"\"A Yelp-powered Restaurant Recommendation Program\"\"\"\n",
    "\n",
    "from abstractions import *\n",
    "from data import ALL_RESTAURANTS, CATEGORIES, USER_FILES, load_user_file\n",
    "from ucb import main, trace, interact\n",
    "from utils import distance, mean, zip, enumerate, sample\n",
    "from visualize import draw_map\n",
    "\n",
    "##################################\n",
    "# Phase 2: Unsupervised Learning #\n",
    "##################################\n",
    "\n",
    "\n",
    "def find_closest(location, centroids):\n",
    "    \"\"\"Return the centroid in centroids that is closest to location.\n",
    "    If multiple centroids are equally close, return the first one.\n",
    "\n",
    "    >>> find_closest([3.0, 4.0], [[0.0, 0.0], [2.0, 3.0], [4.0, 3.0], [5.0, 5.0]])\n",
    "    [2.0, 3.0]\n",
    "    \"\"\"\n",
    "    # BEGIN Question 3\n",
    "    return min([pos for pos in centroids],key=lambda pos: distance(location,pos))\n",
    "    # END Question 3\n",
    "\n",
    "\n",
    "def group_by_first(pairs):\n",
    "    \"\"\"Return a list of pairs that relates each unique key in the [key, value]\n",
    "    pairs to a list of all values that appear paired with that key.\n",
    "\n",
    "    Arguments:\n",
    "    pairs -- a sequence of pairs\n",
    "\n",
    "    >>> example = [ [1, 2], [3, 2], [2, 4], [1, 3], [3, 1], [1, 2] ]\n",
    "    >>> group_by_first(example)\n",
    "    [[2, 3, 2], [2, 1], [4]]\n",
    "    \"\"\"\n",
    "    keys = []\n",
    "    for key, _ in pairs:\n",
    "        if key not in keys:\n",
    "            keys.append(key)\n",
    "    return [[y for x, y in pairs if x == key] for key in keys]\n",
    "\n",
    "\n",
    "def group_by_centroid(restaurants, centroids):\n",
    "    \"\"\"Return a list of clusters, where each cluster contains all restaurants\n",
    "    nearest to a corresponding centroid in centroids. Each item in\n",
    "    restaurants should appear once in the result, along with the other\n",
    "    restaurants closest to the same centroid.\n",
    "    \"\"\"\n",
    "    # BEGIN Question 4\n",
    "    ls=[]\n",
    "    for res in restaurants:\n",
    "        res_center=min([c for c in centroids],key=lambda c: distance(c,restaurant_location(res)))\n",
    "        ls.append([res_center,res])\n",
    "    return group_by_first(ls)\n",
    "    # END Question 4\n",
    "\n",
    "\n",
    "def find_centroid(cluster):\n",
    "    \"\"\"Return the centroid of the locations of the restaurants in cluster.\"\"\"\n",
    "    # BEGIN Question 5\n",
    "    x=mean([restaurant_location(res)[0] for res in cluster])\n",
    "    y=mean([restaurant_location(res)[1] for res in cluster])\n",
    "    return [x,y]\n",
    "    # END Question 5\n",
    "\n",
    "\n",
    "def k_means(restaurants, k, max_updates=100):\n",
    "    \"\"\"Use k-means to group restaurants by location into k clusters.\"\"\"\n",
    "    assert len(restaurants) >= k, 'Not enough restaurants to cluster'\n",
    "    old_centroids, n = [], 0\n",
    "    # Select initial centroids randomly by choosing k different restaurants\n",
    "    centroids = [restaurant_location(r) for r in sample(restaurants, k)]\n",
    "\n",
    "    while old_centroids != centroids and n < max_updates:\n",
    "        old_centroids = centroids\n",
    "        # BEGIN Question 6\n",
    "        newclusters = group_by_centroid(restaurants, old_centroids)\n",
    "        centroids=[]\n",
    "        for group in newclusters:\n",
    "            center = find_centroid([res for res in group])\n",
    "            centroids.append(center)\n",
    "        # END Question 6\n",
    "        n += 1\n",
    "    return centroids"
   ]
  },
  {
   "cell_type": "code",
   "execution_count": 34,
   "metadata": {},
   "outputs": [
    {
     "data": {
      "text/plain": [
       "[[-0.5, -4.0], [1.0, -1.0]]"
      ]
     },
     "execution_count": 34,
     "metadata": {},
     "output_type": "execute_result"
    }
   ],
   "source": [
    "k_means(restaurants1,2)"
   ]
  },
  {
   "cell_type": "code",
   "execution_count": 13,
   "metadata": {
    "collapsed": true
   },
   "outputs": [],
   "source": [
    "k=2"
   ]
  },
  {
   "cell_type": "code",
   "execution_count": 19,
   "metadata": {},
   "outputs": [],
   "source": [
    "old_centroids, n = [], 0\n",
    "    # Select initial centroids randomly by choosing k different restaurants\n",
    "centroids = [restaurant_location(r) for r in sample(restaurants1, k)]\n",
    "old_centroids = centroids\n",
    "newclusters = group_by_centroid(restaurants1, old_centroids)"
   ]
  },
  {
   "cell_type": "code",
   "execution_count": 18,
   "metadata": {},
   "outputs": [],
   "source": [
    "restaurants1 = [\n",
    "    make_restaurant('A', [-3, -4], [], 3, [make_review('A', 2)]),\n",
    "    make_restaurant('B', [1, -1],  [], 1, [make_review('B', 1)]),\n",
    "    make_restaurant('C', [2, -4],  [], 1, [make_review('C', 5)])]\n",
    "\n",
    "#k_means(restaurants1,k)"
   ]
  },
  {
   "cell_type": "code",
   "execution_count": 27,
   "metadata": {},
   "outputs": [
    {
     "data": {
      "text/plain": [
       "[[['A', [-3, -4], [], 3, [['A', 2]]]],\n",
       " [['B', [1, -1], [], 1, [['B', 1]]], ['C', [2, -4], [], 1, [['C', 5]]]]]"
      ]
     },
     "execution_count": 27,
     "metadata": {},
     "output_type": "execute_result"
    }
   ],
   "source": [
    "newclusters"
   ]
  },
  {
   "cell_type": "code",
   "execution_count": 31,
   "metadata": {},
   "outputs": [
    {
     "data": {
      "text/plain": [
       "[[1, -1], [2, -4]]"
      ]
     },
     "execution_count": 31,
     "metadata": {},
     "output_type": "execute_result"
    }
   ],
   "source": [
    "[restaurant_location(res) for res in newclusters[1]]"
   ]
  },
  {
   "cell_type": "code",
   "execution_count": 35,
   "metadata": {
    "collapsed": true
   },
   "outputs": [],
   "source": [
    "def k_means(restaurants, k, max_updates=100):\n",
    "    \"\"\"Use k-means to group restaurants by location into k clusters.\"\"\"\n",
    "    assert len(restaurants) >= k, 'Not enough restaurants to cluster'\n",
    "    old_centroids, n = [], 0\n",
    "    # Select initial centroids randomly by choosing k different restaurants\n",
    "    centroids = [restaurant_location(r) for r in sample(restaurants, k)]\n",
    "\n",
    "    while old_centroids != centroids and n < max_updates:\n",
    "        old_centroids = centroids\n",
    "        # BEGIN Question 6\n",
    "        newclusters = group_by_centroid(restaurants, old_centroids)\n",
    "        centroids=[]\n",
    "        for group in newclusters:\n",
    "            center = find_centroid([res for res in group])\n",
    "            centroids.append(center)\n",
    "        # END Question 6\n",
    "        n += 1\n",
    "    return centroids\n",
    "\n",
    "\n",
    "\n",
    "################################\n",
    "# Phase 3: Supervised Learning #\n",
    "################################\n",
    "\n",
    "\n",
    "def find_predictor(user, restaurants, feature_fn):\n",
    "    \"\"\"Return a rating predictor (a function from restaurants to ratings),\n",
    "    for a user by performing least-squares linear regression using feature_fn\n",
    "    on the items in restaurants. Also, return the R^2 value of this model.\n",
    "\n",
    "    Arguments:\n",
    "    user -- A user\n",
    "    restaurants -- A sequence of restaurants\n",
    "    feature_fn -- A function that takes a restaurant and returns a number\n",
    "    \"\"\"\n",
    "    #a dictionary having (user-reviewed) restaurant names and ratings respectively\n",
    "    reviews_by_user = {review_restaurant_name(review): review_rating(review)\n",
    "                       for review in user_reviews(user).values()}\n",
    "\n",
    "    xs = [feature_fn(r) for r in restaurants]  #all restaurant features(sequence of numbers)\n",
    "    ys = [reviews_by_user[restaurant_name(r)] for r in restaurants] #user-reviewed restaurant scores\n",
    "\n",
    "    # BEGIN Question 7\n",
    "    xbar=mean(xs)\n",
    "    ybar=mean(ys)\n",
    "    xmid=[x-xbar for x in xs]\n",
    "    ymid=[y-ybar for y in ys]\n",
    "    Sxx=sum([x**2 for x in xmid])\n",
    "    Syy=sum([y**2 for y in ymid])\n",
    "    Sxy=sum([x*y for x,y in zip(xmid,ymid)])\n",
    "    b=Sxy/Sxx\n",
    "    a=ybar-b*xbar\n",
    "    r_squared=Sxy**2/(Sxx*Syy)\n",
    "    # END Question 7\n",
    "\n",
    "    def predictor(restaurant):\n",
    "        return b * feature_fn(restaurant) + a\n",
    "\n",
    "    return predictor, r_squared\n",
    "\n",
    "\n",
    "def best_predictor(user, restaurants, feature_fns):\n",
    "    \"\"\"Find the feature within feature_fns that gives the highest R^2 value\n",
    "    for predicting ratings by the user; return a predictor using that feature.\n",
    "\n",
    "    Arguments:\n",
    "    user -- A user\n",
    "    restaurants -- A list of restaurants\n",
    "    feature_fns -- A sequence of functions that each takes a restaurant\n",
    "    \"\"\"\n",
    "    reviewed = user_reviewed_restaurants(user, restaurants)\n",
    "    # BEGIN Question 8\n",
    "    return max([find_predictor(user, reviewed, feature) for feature in feature_fns],key=lambda x:x[1])[0]\n",
    "    # END Question 8\n",
    "\n",
    "\n",
    "def rate_all(user, restaurants, feature_fns):\n",
    "    \"\"\"Return the predicted ratings of restaurants by user using the best\n",
    "    predictor based on a function from feature_fns.\n",
    "\n",
    "    Arguments:\n",
    "    user -- A user\n",
    "    restaurants -- A list of restaurants\n",
    "    feature_fns -- A sequence of feature functions\n",
    "    \"\"\"\n",
    "    predictor = best_predictor(user, ALL_RESTAURANTS, feature_fns)\n",
    "    reviewed = user_reviewed_restaurants(user, restaurants)\n",
    "    # BEGIN Question 9\n",
    "    ratings=[user_rating(user, restaurant_name(x)) for x in reviewed]\n",
    "    final={}\n",
    "    i=0\n",
    "    for res in restaurants:\n",
    "        if res in reviewed:\n",
    "            final[restaurant_name(res)]=ratings[i]\n",
    "            i=i+1\n",
    "        else:\n",
    "            final[restaurant_name(res)]=predictor(res)\n",
    "    return final\n",
    "    # END Question 9"
   ]
  },
  {
   "cell_type": "code",
   "execution_count": 45,
   "metadata": {},
   "outputs": [],
   "source": [
    "user = make_user('Mr. Mean Rating Minus One', [\n",
    "make_review('A', 3),\n",
    "make_review('B', 4),\n",
    "make_review('C', 1),\n",
    "])\n",
    "cluster = [\n",
    "make_restaurant('A', [1, 2], [], 4, [\n",
    "make_review('A', 4),\n",
    "make_review('A', 4)\n",
    "]),\n",
    "make_restaurant('B', [4, 2], [], 3, [\n",
    "make_review('B', 5)\n",
    "]),\n",
    "make_restaurant('C', [-2, 6], [], 4, [\n",
    "make_review('C', 2)\n",
    "]),\n",
    "make_restaurant('D', [4, 4], [], 3.5, [\n",
    "make_review('D', 2.5),\n",
    "make_review('D', 3.5),\n",
    "]),\n",
    "]\n",
    "restaurants = {restaurant_name(r): r for r in cluster}\n",
    "ALL_RESTAURANTS = cluster\n",
    "to_rate = cluster[2:]\n",
    "fns = [restaurant_price, lambda r: mean(restaurant_ratings(r))]\n",
    "#ratings = rate_all(user, to_rate, fns)"
   ]
  },
  {
   "cell_type": "code",
   "execution_count": 69,
   "metadata": {},
   "outputs": [],
   "source": [
    "predictor = best_predictor(user, ALL_RESTAURANTS, fns)\n",
    "reviewed = user_reviewed_restaurants(user, to_rate)"
   ]
  },
  {
   "cell_type": "code",
   "execution_count": 72,
   "metadata": {},
   "outputs": [
    {
     "data": {
      "text/plain": [
       "3.0"
      ]
     },
     "execution_count": 72,
     "metadata": {},
     "output_type": "execute_result"
    }
   ],
   "source": [
    "predictor(cluster[0])"
   ]
  },
  {
   "cell_type": "code",
   "execution_count": 70,
   "metadata": {},
   "outputs": [
    {
     "data": {
      "text/plain": [
       "[['C', [-2, 6], [], 4, [['C', 2]]]]"
      ]
     },
     "execution_count": 70,
     "metadata": {},
     "output_type": "execute_result"
    }
   ],
   "source": [
    "reviewed"
   ]
  },
  {
   "cell_type": "code",
   "execution_count": 73,
   "metadata": {},
   "outputs": [
    {
     "data": {
      "text/plain": [
       "['Mr. Mean Rating Minus One', {'A': ['A', 3], 'B': ['B', 4], 'C': ['C', 1]}]"
      ]
     },
     "execution_count": 73,
     "metadata": {},
     "output_type": "execute_result"
    }
   ],
   "source": [
    "user"
   ]
  },
  {
   "cell_type": "code",
   "execution_count": 75,
   "metadata": {},
   "outputs": [],
   "source": [
    "ratings=user_rating(user, 'A')"
   ]
  },
  {
   "cell_type": "code",
   "execution_count": 77,
   "metadata": {},
   "outputs": [
    {
     "data": {
      "text/plain": [
       "3"
      ]
     },
     "execution_count": 77,
     "metadata": {},
     "output_type": "execute_result"
    }
   ],
   "source": [
    "ratings"
   ]
  },
  {
   "cell_type": "code",
   "execution_count": 63,
   "metadata": {},
   "outputs": [
    {
     "data": {
      "text/plain": [
       "['A', 'B', 'C']"
      ]
     },
     "execution_count": 63,
     "metadata": {},
     "output_type": "execute_result"
    }
   ],
   "source": [
    "reviewed"
   ]
  },
  {
   "cell_type": "code",
   "execution_count": 66,
   "metadata": {},
   "outputs": [
    {
     "data": {
      "text/plain": [
       "['A', 3]"
      ]
     },
     "execution_count": 66,
     "metadata": {},
     "output_type": "execute_result"
    }
   ],
   "source": [
    "reviewed_by_user['A']"
   ]
  },
  {
   "cell_type": "code",
   "execution_count": 67,
   "metadata": {},
   "outputs": [
    {
     "data": {
      "text/plain": [
       "3"
      ]
     },
     "execution_count": 67,
     "metadata": {},
     "output_type": "execute_result"
    }
   ],
   "source": [
    "review_rating(reviewed_by_user['A'])"
   ]
  },
  {
   "cell_type": "code",
   "execution_count": 68,
   "metadata": {},
   "outputs": [
    {
     "data": {
      "text/plain": [
       "[3, 4, 1]"
      ]
     },
     "execution_count": 68,
     "metadata": {},
     "output_type": "execute_result"
    }
   ],
   "source": [
    "[user_rating(user, name) for name in reviewed]"
   ]
  },
  {
   "cell_type": "code",
   "execution_count": 78,
   "metadata": {},
   "outputs": [
    {
     "data": {
      "text/plain": [
       "[1]"
      ]
     },
     "execution_count": 78,
     "metadata": {},
     "output_type": "execute_result"
    }
   ],
   "source": [
    "[user_rating(user, restaurant_name(x)) for x in reviewed]"
   ]
  },
  {
   "cell_type": "code",
   "execution_count": null,
   "metadata": {
    "collapsed": true
   },
   "outputs": [],
   "source": []
  },
  {
   "cell_type": "code",
   "execution_count": 61,
   "metadata": {},
   "outputs": [
    {
     "ename": "TypeError",
     "evalue": "unhashable type: 'list'",
     "output_type": "error",
     "traceback": [
      "\u001b[1;31m---------------------------------------------------------------------------\u001b[0m",
      "\u001b[1;31mTypeError\u001b[0m                                 Traceback (most recent call last)",
      "\u001b[1;32m<ipython-input-61-411d5df95585>\u001b[0m in \u001b[0;36m<module>\u001b[1;34m()\u001b[0m\n\u001b[0;32m      1\u001b[0m \u001b[0mreviewed_by_user\u001b[0m \u001b[1;33m=\u001b[0m \u001b[0muser_reviews\u001b[0m\u001b[1;33m(\u001b[0m\u001b[0muser\u001b[0m\u001b[1;33m)\u001b[0m\u001b[1;33m\u001b[0m\u001b[0m\n\u001b[1;32m----> 2\u001b[1;33m \u001b[0muser_review\u001b[0m \u001b[1;33m=\u001b[0m \u001b[0mreviewed_by_user\u001b[0m\u001b[1;33m[\u001b[0m\u001b[0mreviewed\u001b[0m\u001b[1;33m]\u001b[0m\u001b[1;33m\u001b[0m\u001b[0m\n\u001b[0m",
      "\u001b[1;31mTypeError\u001b[0m: unhashable type: 'list'"
     ]
    }
   ],
   "source": [
    "reviewed_by_user = user_reviews(user)\n",
    "user_review = reviewed_by_user[reviewed]"
   ]
  },
  {
   "cell_type": "code",
   "execution_count": null,
   "metadata": {
    "collapsed": true
   },
   "outputs": [],
   "source": [
    ">>> user = make_user('Mr. Mean Rating Minus One', [\n",
    "          ...     make_review('A', 3),\n",
    "          ...     make_review('B', 4),\n",
    "          ...     make_review('C', 1),\n",
    "          ... ])\n",
    "          >>> cluster = [\n",
    "          ...     make_restaurant('A', [1, 2], [], 4, [\n",
    "          ...         make_review('A', 4),\n",
    "          ...         make_review('A', 4)\n",
    "          ...     ]),\n",
    "          ...     make_restaurant('B', [4, 2], [], 3, [\n",
    "          ...         make_review('B', 5)\n",
    "          ...     ]),\n",
    "          ...     make_restaurant('C', [-2, 6], [], 4, [\n",
    "          ...         make_review('C', 2)\n",
    "          ...     ]),\n",
    "          ...     make_restaurant('D', [4, 4], [], 3.5, [\n",
    "          ...         make_review('D', 2.5),\n",
    "          ...         make_review('D', 3.5),\n",
    "          ...     ]),\n",
    "          ... ]\n",
    "          >>> restaurants = {restaurant_name(r): r for r in cluster}\n",
    "          >>> recommend.ALL_RESTAURANTS = cluster\n",
    "          >>> to_rate = cluster[2:]\n",
    "          >>> fns = [restaurant_price, lambda r: mean(restaurant_ratings(r))]\n",
    "          >>> ratings = rate_all(user, to_rate, fns)\n",
    "          >>> type(ratings)\n",
    "          <class 'dict'>\n",
    "          >>> len(ratings) # Only the restaurants passed to rate_all\n",
    "          2\n",
    "          >>> ratings['C'] # A restaurant rated by the user (should be an integer)\n",
    "          1\n",
    "          >>> round(ratings['D'], 5) # A predicted rating (should be a decimal)\n",
    "          2.0\n",
    "          \"\"\","
   ]
  },
  {
   "cell_type": "code",
   "execution_count": 7,
   "metadata": {
    "collapsed": true
   },
   "outputs": [],
   "source": [
    "################################\n",
    "# Phase 3: Supervised Learning #\n",
    "################################\n",
    "\n",
    "\n",
    "def find_predictor(user, restaurants, feature_fn):\n",
    "    \"\"\"Return a rating predictor (a function from restaurants to ratings),\n",
    "    for a user by performing least-squares linear regression using feature_fn\n",
    "    on the items in restaurants. Also, return the R^2 value of this model.\n",
    "\n",
    "    Arguments:\n",
    "    user -- A user\n",
    "    restaurants -- A sequence of restaurants\n",
    "    feature_fn -- A function that takes a restaurant and returns a number\n",
    "    \"\"\"\n",
    "    reviews_by_user = {review_restaurant_name(review): review_rating(review)\n",
    "                       for review in user_reviews(user).values()}\n",
    "\n",
    "    xs = [feature_fn(r) for r in restaurants]\n",
    "    ys = [reviews_by_user[restaurant_name(r)] for r in restaurants]\n",
    "\n",
    "    # BEGIN Question 7\n",
    "    b, a, r_squared = 0, 0, 0  # REPLACE THIS LINE WITH YOUR SOLUTION\n",
    "    # END Question 7\n",
    "\n",
    "    def predictor(restaurant):\n",
    "        return b * feature_fn(restaurant) + a\n",
    "\n",
    "    return predictor, r_squared\n",
    "\n",
    "\n",
    "def best_predictor(user, restaurants, feature_fns):\n",
    "    \"\"\"Find the feature within feature_fns that gives the highest R^2 value\n",
    "    for predicting ratings by the user; return a predictor using that feature.\n",
    "\n",
    "    Arguments:\n",
    "    user -- A user\n",
    "    restaurants -- A list of restaurants\n",
    "    feature_fns -- A sequence of functions that each takes a restaurant\n",
    "    \"\"\"\n",
    "    reviewed = user_reviewed_restaurants(user, restaurants)\n",
    "    # BEGIN Question 8\n",
    "    \"*** YOUR CODE HERE ***\"\n",
    "    # END Question 8\n",
    "\n",
    "\n",
    "def rate_all(user, restaurants, feature_fns):\n",
    "    \"\"\"Return the predicted ratings of restaurants by user using the best\n",
    "    predictor based on a function from feature_fns.\n",
    "\n",
    "    Arguments:\n",
    "    user -- A user\n",
    "    restaurants -- A list of restaurants\n",
    "    feature_fns -- A sequence of feature functions\n",
    "    \"\"\"\n",
    "    predictor = best_predictor(user, ALL_RESTAURANTS, feature_fns)\n",
    "    reviewed = user_reviewed_restaurants(user, restaurants)\n",
    "    # BEGIN Question 9\n",
    "    \"*** YOUR CODE HERE ***\"\n",
    "    # END Question 9\n",
    "\n",
    "\n",
    "def search(query, restaurants):\n",
    "    \"\"\"Return each restaurant in restaurants that has query as a category.\n",
    "\n",
    "    Arguments:\n",
    "    query -- A string\n",
    "    restaurants -- A sequence of restaurants\n",
    "    \"\"\"\n",
    "    # BEGIN Question 10\n",
    "    \"*** YOUR CODE HERE ***\"\n",
    "    # END Question 10\n",
    "\n",
    "\n",
    "def feature_set():\n",
    "    \"\"\"Return a sequence of feature functions.\"\"\"\n",
    "    return [lambda r: mean(restaurant_ratings(r)),\n",
    "            restaurant_price,\n",
    "            lambda r: len(restaurant_ratings(r)),\n",
    "            lambda r: restaurant_location(r)[0],\n",
    "            lambda r: restaurant_location(r)[1]]\n",
    "\n",
    "\n",
    "@main\n",
    "def main(*args):\n",
    "    import argparse\n",
    "    parser = argparse.ArgumentParser(\n",
    "        description='Run Recommendations',\n",
    "        formatter_class=argparse.RawTextHelpFormatter\n",
    "    )\n",
    "    parser.add_argument('-u', '--user', type=str, choices=USER_FILES,\n",
    "                        default='test_user',\n",
    "                        metavar='USER',\n",
    "                        help='user file, e.g.\\n' +\n",
    "                        '{{{}}}'.format(','.join(sample(USER_FILES, 3))))\n",
    "    parser.add_argument('-k', '--k', type=int, help='for k-means')\n",
    "    parser.add_argument('-q', '--query', choices=CATEGORIES,\n",
    "                        metavar='QUERY',\n",
    "                        help='search for restaurants by category e.g.\\n'\n",
    "                        '{{{}}}'.format(','.join(sample(CATEGORIES, 3))))\n",
    "    parser.add_argument('-p', '--predict', action='store_true',\n",
    "                        help='predict ratings for all restaurants')\n",
    "    parser.add_argument('-r', '--restaurants', action='store_true',\n",
    "                        help='outputs a list of restaurant names')\n",
    "    args = parser.parse_args()\n",
    "\n",
    "    # Output a list of restaurant names\n",
    "    if args.restaurants:\n",
    "        print('Restaurant names:')\n",
    "        for restaurant in sorted(ALL_RESTAURANTS, key=restaurant_name):\n",
    "            print(repr(restaurant_name(restaurant)))\n",
    "        exit(0)\n",
    "\n",
    "    # Select restaurants using a category query\n",
    "    if args.query:\n",
    "        restaurants = search(args.query, ALL_RESTAURANTS)\n",
    "    else:\n",
    "        restaurants = ALL_RESTAURANTS\n",
    "\n",
    "    # Load a user\n",
    "    assert args.user, 'A --user is required to draw a map'\n",
    "    user = load_user_file('{}.dat'.format(args.user))\n",
    "\n",
    "    # Collect ratings\n",
    "    if args.predict:\n",
    "        ratings = rate_all(user, restaurants, feature_set())\n",
    "    else:\n",
    "        restaurants = user_reviewed_restaurants(user, restaurants)\n",
    "        names = [restaurant_name(r) for r in restaurants]\n",
    "        ratings = {name: user_rating(user, name) for name in names}\n",
    "\n",
    "    # Draw the visualization\n",
    "    if args.k:\n",
    "        centroids = k_means(restaurants, min(args.k, len(restaurants)))\n",
    "    else:\n",
    "        centroids = [restaurant_location(r) for r in restaurants]\n",
    "    draw_map(centroids, restaurants, ratings)"
   ]
  }
 ],
 "metadata": {
  "kernelspec": {
   "display_name": "Python 3",
   "language": "python",
   "name": "python3"
  },
  "language_info": {
   "codemirror_mode": {
    "name": "ipython",
    "version": 3
   },
   "file_extension": ".py",
   "mimetype": "text/x-python",
   "name": "python",
   "nbconvert_exporter": "python",
   "pygments_lexer": "ipython3",
   "version": "3.6.1"
  }
 },
 "nbformat": 4,
 "nbformat_minor": 2
}
